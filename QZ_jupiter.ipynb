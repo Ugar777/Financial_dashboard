{
 "cells": [
  {
   "cell_type": "code",
   "execution_count": null,
   "metadata": {},
   "outputs": [],
   "source": [
    "import pandas as pd\n",
    "import requests\n",
    "import json\n",
    "\n",
    "# Setting this option will print all collumns of a dataframe\n",
    "pd.set_option('display.max_columns', None)\n",
    "# Setting this option will print all of the data in a feature\n",
    "pd.set_option('display.max_colwidth', None)"
   ]
  },
  {
   "cell_type": "code",
   "execution_count": null,
   "metadata": {},
   "outputs": [],
   "source": [
    "#connect to API and get a content\n",
    "\n",
    "url = \"https://yh-finance.p.rapidapi.com/stock/v2/get-balance-sheet\"\n",
    "\n",
    "querystring = {\"symbol\":\"MFGP\",\"region\":\"US\"}\n",
    "\n",
    "headers = {\n",
    "\t\"X-RapidAPI-Key\": \"ffb9286af0msha9e497d853b5065p1c1fecjsn7f116fe31a99\",\n",
    "\t\"X-RapidAPI-Host\": \"yh-finance.p.rapidapi.com\"\n",
    "}\n",
    "\n",
    "response = requests.request(\"GET\", url, headers=headers, params=querystring)\n",
    "\n",
    "print(response.content)"
   ]
  },
  {
   "cell_type": "code",
   "execution_count": null,
   "metadata": {},
   "outputs": [],
   "source": [
    "# create DataFrame\n",
    "data=pd.json_normalize(response.json())"
   ]
  },
  {
   "cell_type": "code",
   "execution_count": null,
   "metadata": {},
   "outputs": [],
   "source": [
    "# DataFrame Visual Check\n",
    "data.head()"
   ]
  },
  {
   "cell_type": "code",
   "execution_count": null,
   "metadata": {},
   "outputs": [],
   "source": [
    "# Yearly or Quarterly Data - depends from Column\n",
    "data_cash=data['cashflowStatementHistory.cashflowStatements']"
   ]
  },
  {
   "cell_type": "code",
   "execution_count": null,
   "metadata": {},
   "outputs": [],
   "source": [
    "# Check number of lists\n",
    "print(\"Number of sub-tables:\", len(data_cash[0]))\n",
    "print(\"Number of columns in 1st sub-table:\", len(data_cash[0][0]))\n",
    "print(\"Number of columns in 2nd sub-table:\", len(data_cash[0][1]))\n",
    "print(\"Number of columns in 3rd sub-table:\", len(data_cash[0][2]))\n",
    "print(\"Number of columns in 4th sub-table:\", len(data_cash[0][3]))"
   ]
  },
  {
   "cell_type": "code",
   "execution_count": null,
   "metadata": {},
   "outputs": [],
   "source": [
    "# Create a List of available columns\n",
    "sectors=[]\n",
    "len(data_cash[0][2])\n",
    "for z in data_cash[0][2]:\n",
    "    sectors.append(z)\n",
    "# Remove unnessesary columns\n",
    "sectors.remove('maxAge')\n",
    "print(sectors)"
   ]
  },
  {
   "cell_type": "code",
   "execution_count": null,
   "metadata": {},
   "outputs": [],
   "source": [
    "# Create list for each column\n",
    "investments=[]\n",
    "changeToLiabilities=[]\n",
    "totalCashflowsFromInvestingActivities=[]\n",
    "netBorrowings=[]\n",
    "totalCashFromFinancingActivities=[]\n",
    "changeToOperatingActivities=[]\n",
    "issuanceOfStock=[]\n",
    "netIncome=[]\n",
    "changeInCash=[]\n",
    "endDate=[]\n",
    "repurchaseOfStock=[]\n",
    "totalCashFromOperatingActivities=[]\n",
    "depreciation=[]\n",
    "changeToInventory=[]\n",
    "changeToAccountReceivables=[]\n",
    "otherCashflowsFromFinancingActivities=[]\n",
    "changeToNetincome=[]\n",
    "capitalExpenditures=[]\n",
    "dividendsPaid=[]\n",
    "otherCashflowsFromInvestingActivities=[]\n",
    "effectOfExchangeRate=[]"
   ]
  },
  {
   "cell_type": "code",
   "execution_count": null,
   "metadata": {},
   "outputs": [],
   "source": [
    "# Parse data and add it to lists\n",
    "\n",
    "#Function with name of Column\n",
    "def collect(column):\n",
    "     #Create local variable from the column's name\n",
    "    b=globals()[column]\n",
    "     #Marker for NaN value   \n",
    "    NA_filler=0 \n",
    "    #Number of sub-tables\n",
    "    for list_number in range(4):\n",
    "        #Pick particular column from sub-table\n",
    "        for zz in data_cash.values[0][list_number]:\n",
    "            #Take value from the sub-table & column\n",
    "            if zz==column:\n",
    "                if \"fmt\" not in data_cash.values[0][list_number][column]:xx=\"NaN\"\n",
    "                else: xx=data_cash.values[0][list_number][column]['fmt']\n",
    "                #If value exist it disable NaN value checker\n",
    "                NA_filler=1\n",
    "                #Remove \"k\" letters and convert number in Mio and add to list\n",
    "                if xx == None:\n",
    "                    xx=\"NaN\"\n",
    "                    b.append(xx)\n",
    "                elif 'k' in xx:\n",
    "                    ff=xx.strip('k')\n",
    "                    ff=float(ff)/1000\n",
    "                    b.append(ff)\n",
    "                #Remove \"M\" letter and add to list\n",
    "                elif  'M' in xx:\n",
    "                    tt=xx.strip('M')\n",
    "                    b.append(tt)\n",
    "                elif  'B' in xx:\n",
    "                    mm=xx.strip('B')\n",
    "                    mm=float(mm)*1000\n",
    "                    b.append(mm)\n",
    "                #Add to list if all conditions full-field\n",
    "                else: \n",
    "                    b.append(xx)\n",
    "        #Add NaN value if value is not exsist \n",
    "        if NA_filler==0:\n",
    "            b.append(\"NaN\")"
   ]
  },
  {
   "cell_type": "code",
   "execution_count": null,
   "metadata": {},
   "outputs": [],
   "source": [
    "# Launch the process\n",
    "for column in sectors:\n",
    "    collect(column)"
   ]
  },
  {
   "cell_type": "code",
   "execution_count": null,
   "metadata": {},
   "outputs": [],
   "source": [
    "balance_sheet=data['balanceSheetHistory.balanceSheetStatements']"
   ]
  },
  {
   "cell_type": "code",
   "execution_count": null,
   "metadata": {},
   "outputs": [],
   "source": [
    "print(\"Number of sub-tables:\", len(balance_sheet[0]))\n",
    "print(\"Number of columns in 1st sub-table:\", len(balance_sheet[0][0]))\n",
    "print(\"Number of columns in 2nd sub-table:\", len(balance_sheet[0][1]))\n",
    "print(\"Number of columns in 3rd sub-table:\", len(balance_sheet[0][2]))\n",
    "print(\"Number of columns in 4th sub-table:\", len(balance_sheet[0][3]))"
   ]
  },
  {
   "cell_type": "code",
   "execution_count": null,
   "metadata": {},
   "outputs": [],
   "source": [
    "# Create a List of available columns\n",
    "sectors_b=[]\n",
    "\n",
    "for z in balance_sheet[0][3]:\n",
    "    sectors_b.append(z)\n",
    "sectors_b.remove('maxAge')\n",
    "print(sectors_b)\n"
   ]
  },
  {
   "cell_type": "code",
   "execution_count": null,
   "metadata": {},
   "outputs": [],
   "source": [
    "# Create list for each column\n",
    "intangibleAssets=[]\n",
    "capitalSurplus=[]\n",
    "totalLiab=[]\n",
    "totalStockholderEquity=[]\n",
    "minorityInterest=[]\n",
    "deferredLongTermLiab=[]\n",
    "otherCurrentLiab=[]\n",
    "totalAssets=[]\n",
    "commonStock=[]\n",
    "otherCurrentAssets=[]\n",
    "retainedEarnings=[]\n",
    "otherLiab=[]\n",
    "goodWill=[]\n",
    "treasuryStock=[]\n",
    "otherAssets=[]\n",
    "cash=[]\n",
    "totalCurrentLiabilities=[]\n",
    "deferredLongTermAssetCharges=[]\n",
    "shortLongTermDebt=[]\n",
    "otherStockholderEquity=[]\n",
    "propertyPlantEquipment=[]\n",
    "totalCurrentAssets=[]\n",
    "longTermInvestments=[]\n",
    "netTangibleAssets=[]\n",
    "netReceivables=[]\n",
    "longTermDebt=[]\n",
    "inventory=[]\n",
    "accountsPayable=[]"
   ]
  },
  {
   "cell_type": "code",
   "execution_count": null,
   "metadata": {},
   "outputs": [],
   "source": [
    "# Parse data and add it to lists\n",
    "\n",
    "#Function with name of Column\n",
    "def collect_b(column):\n",
    "     #Create local variable from the column's name\n",
    "    b=globals()[column]\n",
    "     #Marker for NaN value   \n",
    "    NA_filler=0 \n",
    "    #Number of sub-tables\n",
    "    for list_number in range(4):\n",
    "        #Pick particular column from sub-table\n",
    "        for zz in balance_sheet.values[0][list_number]:\n",
    "            #Take value from the sub-table & column\n",
    "            if zz==column:\n",
    "                if \"fmt\" not in balance_sheet.values[0][list_number][column]:xx=\"NaN\"\n",
    "                else: xx=balance_sheet.values[0][list_number][column]['fmt']\n",
    "                \n",
    "                #If value exist it disable NaN value checker\n",
    "                NA_filler=1\n",
    "                #Remove \"k\" letters and convert number in Mio and add to list\n",
    "                if xx == None:\n",
    "                    xx=\"NaN\"\n",
    "                    b.append(xx)\n",
    "                elif 'k' in xx:\n",
    "                    ff=xx.strip('k')\n",
    "                    ff=float(ff)/1000\n",
    "                    b.append(ff)\n",
    "                #Remove \"M\" letter and add to list\n",
    "                elif  'M' in xx:\n",
    "                    tt=xx.strip('M')\n",
    "                    b.append(tt)\n",
    "                elif  'B' in xx:\n",
    "                    mm=xx.strip('B')\n",
    "                    mm=float(mm)*1000\n",
    "                    b.append(mm)\n",
    "                #Add to list if all conditions full-field\n",
    "                else: \n",
    "                    b.append(xx)\n",
    "        #Add NaN value if value is not exsist \n",
    "        if NA_filler==0:\n",
    "            b.append(\"NaN\")"
   ]
  },
  {
   "cell_type": "code",
   "execution_count": null,
   "metadata": {},
   "outputs": [],
   "source": [
    "# Launch the process\n",
    "for column in sectors_b:\n",
    "    collect_b(column)"
   ]
  },
  {
   "cell_type": "code",
   "execution_count": null,
   "metadata": {},
   "outputs": [],
   "source": [
    "income_statement=data['incomeStatementHistory.incomeStatementHistory']"
   ]
  },
  {
   "cell_type": "code",
   "execution_count": null,
   "metadata": {},
   "outputs": [],
   "source": [
    "# Check number of lists\n",
    "print(\"Number of sub-tables:\", len(income_statement[0]))\n",
    "print(\"Number of columns in 1st sub-table:\", len(income_statement[0][0]))\n",
    "print(\"Number of columns in 2nd sub-table:\", len(income_statement[0][1]))\n",
    "print(\"Number of columns in 3rd sub-table:\", len(income_statement[0][2]))\n",
    "print(\"Number of columns in 4th sub-table:\", len(income_statement[0][3]))"
   ]
  },
  {
   "cell_type": "code",
   "execution_count": null,
   "metadata": {},
   "outputs": [],
   "source": [
    "# Create a List of available columns\n",
    "sectors_l=[]\n",
    "len(income_statement[0][2])\n",
    "for z in income_statement[0][2]:\n",
    "    sectors_l.append(z)\n",
    "sectors_l.remove('maxAge')\n",
    "print(sectors_l)"
   ]
  },
  {
   "cell_type": "code",
   "execution_count": null,
   "metadata": {},
   "outputs": [],
   "source": [
    "# Create list for each column\n",
    "researchDevelopment=[]\n",
    "effectOfAccountingCharges=[]\n",
    "incomeBeforeTax=[]\n",
    "minorityInterest=[]\n",
    "netIncome=[]\n",
    "sellingGeneralAdministrative=[]\n",
    "grossProfit=[]\n",
    "ebit=[]\n",
    "operatingIncome=[]\n",
    "otherOperatingExpenses=[]\n",
    "interestExpense=[]\n",
    "extraordinaryItems=[]\n",
    "nonRecurring=[]\n",
    "otherItems=[]\n",
    "incomeTaxExpense=[]\n",
    "totalRevenue=[]\n",
    "totalOperatingExpenses=[]\n",
    "costOfRevenue=[]\n",
    "totalOtherIncomeExpenseNet=[]\n",
    "discontinuedOperations=[]\n",
    "netIncomeFromContinuingOps=[]\n",
    "netIncomeApplicableToCommonShares=[]"
   ]
  },
  {
   "cell_type": "code",
   "execution_count": null,
   "metadata": {},
   "outputs": [],
   "source": [
    "# Parse data and add it to lists\n",
    "\n",
    "#Function with name of Column\n",
    "def collect_l(column):\n",
    "     #Create local variable from the column's name\n",
    "    b=globals()[column]\n",
    "     #Marker for NaN value   \n",
    "    NA_filler=0 \n",
    "    #Number of sub-tables\n",
    "    for list_number in range(4):\n",
    "        #Pick particular column from sub-table\n",
    "        for zz in income_statement.values[0][list_number]:\n",
    "            #Take value from the sub-table & column\n",
    "            if zz==column:\n",
    "                if \"fmt\" not in income_statement.values[0][list_number][column]:xx=\"NaN\"\n",
    "                else: xx=income_statement.values[0][list_number][column]['fmt']\n",
    "                #If value exist it disable NaN value checker\n",
    "                NA_filler=1\n",
    "                #Remove \"k\" letters and convert number in Mio and add to list\n",
    "                if xx == None:\n",
    "                    xx=\"NaN\"\n",
    "                    b.append(xx)\n",
    "                elif 'k' in xx:\n",
    "                    ff=xx.strip('k')\n",
    "                    ff=float(ff)/1000\n",
    "                    b.append(ff)\n",
    "                #Remove \"M\" letter and add to list\n",
    "                elif  'M' in xx:\n",
    "                    tt=xx.strip('M')\n",
    "                    b.append(tt)\n",
    "                elif  'B' in xx:\n",
    "                    mm=xx.strip('B')\n",
    "                    mm=float(mm)*1000\n",
    "                    b.append(mm)\n",
    "                #Add to list if all conditions full-field\n",
    "                else: \n",
    "                    b.append(xx)\n",
    "        #Add NaN value if value is not exsist \n",
    "        if NA_filler==0:\n",
    "            b.append(\"NaN\")"
   ]
  },
  {
   "cell_type": "code",
   "execution_count": null,
   "metadata": {},
   "outputs": [],
   "source": [
    "# Launch the process\n",
    "for column in sectors_l:\n",
    "    collect_l(column)"
   ]
  },
  {
   "cell_type": "code",
   "execution_count": null,
   "metadata": {},
   "outputs": [],
   "source": [
    "# Create collected DataFrame\n",
    "Cash_flow_data = {\n",
    "'Investments':investments,\n",
    "\"ChangeToLiabilities\":changeToLiabilities,\n",
    "\"CashflowsFromInvestingActivities\":totalCashflowsFromInvestingActivities,\n",
    "\"NetBorrowings\":netBorrowings,\n",
    "\"CashFromFinancingActivities\":totalCashFromFinancingActivities,\n",
    "\"ChangeToOperatingActivities\":changeToOperatingActivities,\n",
    "\"IssuanceOfStock\":issuanceOfStock,\n",
    "\"NetIncome\":netIncome,\n",
    "\"ChangeInCash\":changeInCash,\n",
    "\"Date\":endDate,\n",
    "\"RepurchaseOfStock\":repurchaseOfStock,\n",
    "\"CashFromOperatingActivities\":totalCashFromOperatingActivities,\n",
    "\"Depreciation\":depreciation,\n",
    "\"ChangeToInventory\":changeToInventory,\n",
    "\"ChangeToAccountReceivables\":changeToAccountReceivables,\n",
    "\"OtherCashflowsFromFinancingActivities\":otherCashflowsFromFinancingActivities,\n",
    "\"ChangeToNetincome\":changeToNetincome,\n",
    "\"CapitalExpenditures\":capitalExpenditures,\n",
    "\"DividendsPaid\":dividendsPaid,\n",
    "\"OtherCashflowsFromInvestingActivities\":otherCashflowsFromInvestingActivities,\n",
    "\"EffectOfExchangeRate\":effectOfExchangeRate,\n",
    "\"Inventory\":inventory,\n",
    "\"B_IntangibleAssets\":intangibleAssets,\n",
    "\"B_CapitalSurplus\":capitalSurplus,\n",
    "\"B_TotalLiab\":totalLiab,\n",
    "\"B_TotalStockholderEquity\":totalStockholderEquity,\n",
    "\"B_DeferredLongTermLiab\":deferredLongTermLiab,\n",
    "\"B_OtherCurrentLiab\":otherCurrentLiab,\n",
    "\"B_TotalAssets\":totalAssets,\n",
    "\"B_CommonStock\":commonStock,\n",
    "\"B_OtherCurrentAssets\":otherCurrentAssets,\n",
    "\"B_RetainedEarnings\":retainedEarnings,\n",
    "\"B_OtherLiab\":otherLiab,\n",
    "\"B_GoodWill\":goodWill,\n",
    "\"B_TreasuryStock\":treasuryStock,\n",
    "\"B_OtherAssets\":otherAssets,\n",
    "\"B_Cash\":cash,\n",
    "\"B_TotalCurrentLiabilities\":totalCurrentLiabilities,\n",
    "\"B_DeferredLongTermAssetCharges\":deferredLongTermAssetCharges,\n",
    "\"B_ShortLongTermDebt\":shortLongTermDebt,\n",
    "\"B_OtherStockholderEquity\":otherStockholderEquity,\n",
    "\"B_PropertyPlantEquipment\":propertyPlantEquipment,\n",
    "\"B_TotalCurrentAssets\":totalCurrentAssets,\n",
    "\"B_NetTangibleAssets\":netTangibleAssets,\n",
    "\"B_NetReceivables\":netReceivables,\n",
    "\"B_LongTermDebt\":longTermDebt,\n",
    "\"B_AccountsPayable\":accountsPayable,\n",
    "\"I_researchDevelopment\":researchDevelopment,\n",
    "\"I_EffectOfAccountingCharges\":effectOfAccountingCharges,\n",
    "\"I_IncomeBeforeTax\":incomeBeforeTax,\n",
    "\"I_MinorityInterest\":minorityInterest,\n",
    "\"I_NetIncome\":netIncome,\n",
    "\"I_SellingGeneralAdministrative\":sellingGeneralAdministrative,\n",
    "\"I_GrossProfit\":grossProfit,\n",
    "\"I_Ebit\":ebit,\n",
    "\"I_OperatingIncome\":operatingIncome,\n",
    "\"I_OtherOperatingExpenses\":otherOperatingExpenses,\n",
    "\"I_InterestExpense\":interestExpense,\n",
    "\"I_ExtraordinaryItems\":extraordinaryItems,\n",
    "\"I_NonRecurring\":nonRecurring,\n",
    "\"I_OtherItems\":otherItems,\n",
    "\"I_IncomeTaxExpense\":incomeTaxExpense,\n",
    "\"I_TotalRevenue\":totalRevenue,\n",
    "\"I_TotalOperatingExpenses\":totalOperatingExpenses,\n",
    "\"I_CostOfRevenue\":costOfRevenue,\n",
    "\"I_TotalOtherIncomeExpenseNet\":totalOtherIncomeExpenseNet,\n",
    "\"I_DiscontinuedOperations\":discontinuedOperations,\n",
    "\"I_NetIncomeFromContinuingOps\":netIncomeFromContinuingOps,\n",
    "\"I_NetIncomeApplicableToCommonShares \":netIncomeApplicableToCommonShares \n",
    "}"
   ]
  },
  {
   "cell_type": "code",
   "execution_count": null,
   "metadata": {},
   "outputs": [],
   "source": [
    "# Check a result after parsing\n",
    "finish=0\n",
    "for x in Cash_flow_data.values():\n",
    "    finish=finish+1\n",
    "    print(finish,x,len(x))"
   ]
  },
  {
   "cell_type": "code",
   "execution_count": null,
   "metadata": {},
   "outputs": [],
   "source": [
    "# Optional: Add values in column\n",
    "x=0\n",
    "while x<4:\n",
    "    deferredLongTermAssetCharges.append(\"NaN\")\n",
    "    x=x+1"
   ]
  },
  {
   "cell_type": "code",
   "execution_count": null,
   "metadata": {},
   "outputs": [],
   "source": [
    "# Optional: Add values in column\n",
    "shortLongTermDebt.append(\"NaN\")"
   ]
  },
  {
   "cell_type": "code",
   "execution_count": null,
   "metadata": {},
   "outputs": [],
   "source": [
    "# Optional: Remove duplicated values\n",
    "endDate.pop()"
   ]
  },
  {
   "cell_type": "code",
   "execution_count": null,
   "metadata": {},
   "outputs": [],
   "source": [
    "# Remove duplicated dates\n",
    "x=0\n",
    "while x<8:\n",
    "    endDate.pop()\n",
    "    x=x+1"
   ]
  },
  {
   "cell_type": "code",
   "execution_count": null,
   "metadata": {},
   "outputs": [],
   "source": [
    "# Number of column\n",
    "start=0\n",
    "for g in Cash_flow_data.keys():\n",
    "    start=start+1\n",
    "    print(start, g)"
   ]
  },
  {
   "cell_type": "code",
   "execution_count": null,
   "metadata": {},
   "outputs": [],
   "source": [
    "# Rename DataFrame\n",
    "df2=pd.DataFrame(Cash_flow_data)"
   ]
  },
  {
   "cell_type": "code",
   "execution_count": null,
   "metadata": {},
   "outputs": [],
   "source": [
    "# Check DataFrame\n",
    "df2.head()"
   ]
  },
  {
   "cell_type": "code",
   "execution_count": null,
   "metadata": {},
   "outputs": [],
   "source": [
    "# Remove NaN values\n",
    "df3=df2.replace(\"NaN\",0)"
   ]
  },
  {
   "cell_type": "code",
   "execution_count": null,
   "metadata": {},
   "outputs": [],
   "source": [
    "# Check DataFrame\n",
    "df3.head()"
   ]
  },
  {
   "cell_type": "code",
   "execution_count": null,
   "metadata": {},
   "outputs": [],
   "source": [
    "# Save the file\n",
    "df3.to_csv('dataset_QZ_v1.csv', index=False)"
   ]
  }
 ],
 "metadata": {
  "kernelspec": {
   "display_name": "Python 3 (ipykernel)",
   "language": "python",
   "name": "python3"
  },
  "language_info": {
   "codemirror_mode": {
    "name": "ipython",
    "version": 3
   },
   "file_extension": ".py",
   "mimetype": "text/x-python",
   "name": "python",
   "nbconvert_exporter": "python",
   "pygments_lexer": "ipython3",
   "version": "3.9.13"
  }
 },
 "nbformat": 4,
 "nbformat_minor": 1
}
